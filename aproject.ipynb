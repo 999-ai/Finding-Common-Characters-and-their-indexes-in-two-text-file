{
 "cells": [
  {
   "cell_type": "code",
   "execution_count": 161,
   "id": "58ff414c-9565-46d2-b283-75be4c4d7a62",
   "metadata": {},
   "outputs": [
    {
     "name": "stdout",
     "output_type": "stream",
     "text": [
      "coordinates of my file: {'A': [0], 'z': [1], 'a': [2], 't': [3]}\n",
      "coordinates of your file: {'T': [0], 'i': [1, 3], 't': [2], 'z': [4]}\n",
      "common coordinates\n",
      "common character z\n",
      "coordinate of letters of Dosya1: [1]\n",
      "coordinate of letters of Dosya2: [4]\n",
      "common character t\n",
      "coordinate of letters of Dosya1: [3]\n",
      "coordinate of letters of Dosya2: [2]\n"
     ]
    }
   ],
   "source": [
    "\n",
    "def read_file(file_name):\n",
    " with open(file_name,\"r\",encoding=\"utf-8\" )as file:\n",
    "  return file.read().strip()\n",
    " \n",
    "\n",
    "\n",
    "def finding_common_character(letter_of_myfile,letter_of_yourfile):\n",
    "     myfile_coordinates={}\n",
    "     yourfile_coordinates={}\n",
    "     for index,character in enumerate(letter_of_myfile):\n",
    "      if character not in myfile_coordinates:\n",
    "          myfile_coordinates[character]=[]\n",
    "  \n",
    "      myfile_coordinates[character].append(index)\n",
    "     print(\"coordinates of my file:\", myfile_coordinates)\n",
    "     for index,character in enumerate(letter_of_yourfile):\n",
    "      if character not in  yourfile_coordinates:\n",
    "        yourfile_coordinates[character]=[]\n",
    "      yourfile_coordinates[character].append(index)\n",
    "     print(\"coordinates of your file:\",yourfile_coordinates)\n",
    "\n",
    "\n",
    "\n",
    "     common_coordinates={}\n",
    "     for character in myfile_coordinates.keys():\n",
    "        if character in yourfile_coordinates.keys():\n",
    "            common_coordinates[character] = {\n",
    "                \"coordinate of letters of Dosya1\": myfile_coordinates[character],\n",
    "                \"coordinate of letters of Dosya2\": yourfile_coordinates[character]}\n",
    "     return  common_coordinates,myfile_coordinates,yourfile_coordinates\n",
    "def main():         \n",
    "     file1='Dosya1.txt'\n",
    "     file2='Dosya2.txt'\n",
    "     \n",
    "     letter_of_myfile = read_file(file1)\n",
    "     letter_of_yourfile = read_file(file2)\n",
    "\n",
    "     common_coordinates,myfile_coordinates,yourfile_coordinates=finding_common_character(letter_of_myfile,letter_of_yourfile)\n",
    "    \n",
    "     if common_coordinates:\n",
    "       print(\"common coordinates\")\n",
    "       for character  in  common_coordinates.keys():\n",
    "           print(\"common character\",character)\n",
    "           print(f\"coordinate of letters of Dosya1:\", myfile_coordinates[character])\n",
    "           print(f\"coordinate of letters of Dosya2:\", yourfile_coordinates[character])\n",
    "\n",
    "     \n",
    "\n",
    "\n",
    "   \n",
    "\n",
    "if __name__==\"__main__\":\n",
    "     \n",
    "  main()\n",
    "\n",
    "   \n",
    "\n"
   ]
  },
  {
   "cell_type": "code",
   "execution_count": null,
   "id": "0f1da812-1a52-4719-af9c-f89f3e2134eb",
   "metadata": {},
   "outputs": [],
   "source": []
  }
 ],
 "metadata": {
  "kernelspec": {
   "display_name": "Python 3 (ipykernel)",
   "language": "python",
   "name": "python3"
  },
  "language_info": {
   "codemirror_mode": {
    "name": "ipython",
    "version": 3
   },
   "file_extension": ".py",
   "mimetype": "text/x-python",
   "name": "python",
   "nbconvert_exporter": "python",
   "pygments_lexer": "ipython3",
   "version": "3.12.4"
  }
 },
 "nbformat": 4,
 "nbformat_minor": 5
}
